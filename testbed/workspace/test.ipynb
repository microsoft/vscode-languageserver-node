{
 "cells": [
  {
   "cell_type": "code",
   "execution_count": null,
   "metadata": {},
   "outputs": [],
   "source": []
  },
  {
   "cell_type": "code",
   "execution_count": null,
   "metadata": {},
   "outputs": [],
   "source": [
    "console.log()"
   ]
  },
  {
   "cell_type": "markdown",
   "metadata": {},
   "source": []
  },
  {
   "cell_type": "code",
   "execution_count": null,
   "metadata": {},
   "outputs": [],
   "source": [
    "REM @ECHO OFF\n",
    "cd c:\\source\n",
    "REM This is the location of the files that you want to sort\n",
    "FOR %%f IN  (*.doc *.txt) DO XCOPY c:\\source\\\"%%f\" c:\\text /m /y\n",
    "REM This moves any files with a .doc or\n",
    "REM .txt extension from . c:\\source to c:\\textkkk\n",
    "REM %%f is a variable\n",
    "FOR %%f IN (*.jpg *.png *.bmp) DO XCOPY C:\\source\\\"%%f\" c:\\images /m /y\n",
    "REM This moves any files with a .jpg, .png,\n",
    "REM or .bmp extension from c:\\source to c:\\images;;   "
   ]
  },
  {
   "cell_type": "code",
   "execution_count": null,
   "metadata": {},
   "outputs": [],
   "source": [
    "console.log('Hello World')"
   ]
  }
 ],
 "metadata": {
  "language_info": {
   "name": "bat"
  },
  "orig_nbformat": 4
 },
 "nbformat": 4,
 "nbformat_minor": 2
}
